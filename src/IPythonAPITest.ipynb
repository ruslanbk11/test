{
 "cells": [
  {
   "cell_type": "markdown",
   "metadata": {
    "id": "l0P7hcgDmvxD"
   },
   "source": [
    "\n",
    "## Питоновский код\n",
    "\n",
    " ```python\n",
    "print('Python code block')\n",
    " ```"
   ]
  },
  {
   "cell_type": "markdown",
   "metadata": {
    "id": "nTLSeqKCa2yt",
    "pycharm": {
     "name": "#%% md\n"
    }
   },
   "source": [
    "# Тестовая тетрадка\n",
    "\n",
    "Тетрадка создана для проверки работы модуля работы с тетрадками IPython для системы mldev\n",
    "\n",
    "## Пайплайн тетрадки:\n",
    "### Блок с fencedCode должен быть единственным в ячейке\n",
    "\n",
    "```yaml\n",
    "#%mldev nb_context\n",
    "\n",
    "notebook_deps:\n",
    "  printHello_exec: def_printHello\n",
    "  plot: imports get_plot_data\n",
    "\n",
    "pipeline:\n",
    "  - plot\n",
    "  - printHello_exec\n",
    "  - regression\n",
    "  \n",
    "results: [koef, intercept]\n",
    " ```\n",
    "\n",
    " \n",
    "## Питоновский код\n",
    "\n",
    " ```python\n",
    "print('Python code block')\n",
    " ```"
   ]
  },
  {
   "cell_type": "markdown",
   "metadata": {
    "id": "FG61z1Pkm1bq"
   },
   "source": [
    "\n",
    "## Питоновский код\n",
    "\n",
    " ```python\n",
    "print('Python code block')\n",
    " ```"
   ]
  },
  {
   "cell_type": "code",
   "execution_count": null,
   "metadata": {
    "id": "RTdQjrrla2yx",
    "mldev_meta": {
     "name": "imports"
    },
    "pycharm": {
     "name": "#%%\n"
    }
   },
   "outputs": [],
   "source": [
    "#%mldev imports\n",
    "\n",
    "import matplotlib.pyplot as plt"
   ]
  },
  {
   "cell_type": "code",
   "execution_count": null,
   "metadata": {
    "id": "xSAeHtKna2yy",
    "mldev_meta": {
     "name": "s"
    }
   },
   "outputs": [],
   "source": [
    "#%mldev get_plot_data\n",
    "\n",
    "s = 32\n",
    "x = range(10)\n",
    "y = range(10)"
   ]
  },
  {
   "cell_type": "code",
   "execution_count": null,
   "metadata": {
    "id": "nqIrJA09WcZt"
   },
   "outputs": [],
   "source": []
  },
  {
   "cell_type": "code",
   "execution_count": null,
   "metadata": {
    "id": "IRgXvlcaWq1H"
   },
   "outputs": [],
   "source": [
    "from sklearn.linear_model import LinearRegression\n",
    "import numpy as np\n",
    "\n",
    "x = np.array([11, 18, 14, 43, 12, 50, 58, 13]).reshape(-1, 1)\n",
    "y = np.array([4, 8, 6, 19, 5, 19, 25, 7]).reshape(-1, 1)\n",
    "\n",
    "reg = LinearRegression()\n",
    "reg.fit(x, y)\n",
    "\n",
    "# %mldev regression start"
   ]
  },
  {
   "cell_type": "code",
   "execution_count": null,
   "metadata": {
    "id": "T9d4gzhAW4ZR"
   },
   "outputs": [],
   "source": [
    "x_test = np.array([0, 15, 17, 20, 38, 44, 50, 70]).reshape(-1, 1)\n",
    "prediction = reg.predict(x_test)\n",
    "print(reg.coef_, reg.intercept_)"
   ]
  },
  {
   "cell_type": "code",
   "execution_count": null,
   "metadata": {
    "id": "ah0mgzT0W--i"
   },
   "outputs": [],
   "source": [
    "plt.scatter(x, y)\n",
    "plt.plot(x_test, prediction)\n",
    "\n",
    "plt.title(\"Линейная регрессия для времени\")\n",
    "plt.xlabel('Кол-во ячеек')\n",
    "plt.ylabel('Время, мин.')\n",
    "\n",
    "plt.show()"
   ]
  },
  {
   "cell_type": "code",
   "execution_count": null,
   "metadata": {
    "id": "3jYpRdPUXCEw"
   },
   "outputs": [],
   "source": [
    "koef = reg.coef_[0][0]\n",
    "intercept = reg.intercept_[0]\n",
    "print(koef, intercept)\n",
    "\n",
    "#%mldev regression end"
   ]
  },
  {
   "cell_type": "code",
   "execution_count": null,
   "metadata": {
    "id": "PtRKKWrca2yz",
    "mldev_meta": {
     "name": "printHello"
    }
   },
   "outputs": [],
   "source": [
    "# %mldev def_printHello\n",
    "\n",
    "def printHello():\n",
    "    print('hello')"
   ]
  },
  {
   "cell_type": "code",
   "execution_count": null,
   "metadata": {
    "id": "2oXXHlbIa2yz",
    "mldev_meta": {
     "name": "printHello_exec"
    },
    "outputId": "28ddcfc9-5177-4a92-f70c-d4872e9831b4"
   },
   "outputs": [
    {
     "name": "stdout",
     "output_type": "stream",
     "text": [
      "hello\n"
     ]
    }
   ],
   "source": [
    "#%mldev printHello_exec\n",
    "\n",
    "printHello()"
   ]
  },
  {
   "cell_type": "code",
   "execution_count": null,
   "metadata": {
    "id": "n5hPOPy8a2y1",
    "mldev_meta": {
     "name": "plot"
    },
    "outputId": "105c2b0c-99d2-4570-aa93-63e3df53e095"
   },
   "outputs": [
    {
     "name": "stderr",
     "output_type": "stream",
     "text": [
      "/home/ruslan/anaconda3/lib/python3.7/site-packages/ipykernel_launcher.py:4: UserWarning: Matplotlib is currently using module://ipykernel.pylab.backend_inline, which is a non-GUI backend, so cannot show the figure.\n",
      "  after removing the cwd from sys.path.\n"
     ]
    },
    {
     "data": {
      "image/png": "[encoded data removed]",
      "text/plain": [
       "<Figure size 432x288 with 1 Axes>"
      ]
     },
     "metadata": {
      "needs_background": "light",
      "tags": []
     },
     "output_type": "display_data"
    }
   ],
   "source": [
    "# %mldev plot\n",
    "fig, ax = plt.subplots()\n",
    "ax.plot(x,y)\n",
    "# fig.show()"
   ]
  },
  {
   "cell_type": "code",
   "execution_count": null,
   "metadata": {
    "id": "MhtlOOxEa2y2",
    "mldev_meta": {
     "name": "ls"
    },
    "outputId": "0a8953e8-5b33-4c84-f12b-90a6ccb165a8"
   },
   "outputs": [
    {
     "name": "stdout",
     "output_type": "stream",
     "text": [
      "IPythonAPITest.ipynb  nb_context.yml  notebookExamples\tstart_ipython_api.py\r\n"
     ]
    }
   ],
   "source": [
    "#%mldev ls\n",
    "\n",
    "!ls"
   ]
  },
  {
   "cell_type": "code",
   "execution_count": null,
   "metadata": {
    "id": "DHKC5KIQa2y2",
    "mldev_meta": {
     "name": "who_magic"
    },
    "outputId": "0203e9f9-edb8-4f31-c5b9-4150ca22a4c2"
   },
   "outputs": [
    {
     "data": {
      "text/plain": [
       "['printHello']"
      ]
     },
     "execution_count": 15,
     "metadata": {
      "tags": []
     },
     "output_type": "execute_result"
    }
   ],
   "source": [
    "#%mldev who_magic\n",
    "\n",
    "%who_ls function"
   ]
  },
  {
   "cell_type": "code",
   "execution_count": null,
   "metadata": {
    "colab": {
     "base_uri": "https://localhost:8080/"
    },
    "id": "YxmLWJ98a2y3",
    "outputId": "51bf9703-e8b6-47b5-fef6-df9433fa958d",
    "pycharm": {
     "name": "#%%\n"
    }
   },
   "outputs": [
    {
     "name": "stdout",
     "output_type": "stream",
     "text": [
      "this is begining cell\n"
     ]
    }
   ],
   "source": [
    "# %mldev block start\n",
    "\n",
    "print('this is begining cell')"
   ]
  },
  {
   "cell_type": "code",
   "execution_count": null,
   "metadata": {
    "colab": {
     "base_uri": "https://localhost:8080/"
    },
    "id": "EzIxABtYEezY",
    "outputId": "8868b918-0430-46d5-a964-dfaa2ad08d3f"
   },
   "outputs": [
    {
     "name": "stdout",
     "output_type": "stream",
     "text": [
      "this is middle cell\n"
     ]
    }
   ],
   "source": [
    "\n",
    "print('this is middle cell')"
   ]
  },
  {
   "cell_type": "code",
   "execution_count": null,
   "metadata": {
    "colab": {
     "base_uri": "https://localhost:8080/"
    },
    "id": "xUy5ZUcAEh7V",
    "outputId": "bb7e04f8-871f-4a2b-c0b1-cccccfac8b77"
   },
   "outputs": [
    {
     "name": "stdout",
     "output_type": "stream",
     "text": [
      "this is another middle cell\n"
     ]
    }
   ],
   "source": [
    "\n",
    "print('this is another middle cell')"
   ]
  },
  {
   "cell_type": "code",
   "execution_count": null,
   "metadata": {
    "id": "QqjMomNNEkbd"
   },
   "outputs": [],
   "source": [
    "print('this is the last cell')\n",
    "\n",
    "#%mldev block end"
   ]
  },
  {
   "cell_type": "code",
   "execution_count": null,
   "metadata": {
    "id": "sIDLEKYECmLP"
   },
   "outputs": [],
   "source": []
  },
  {
   "cell_type": "code",
   "execution_count": null,
   "metadata": {
    "colab": {
     "base_uri": "https://localhost:8080/"
    },
    "id": "CK-Rr16W0xoR",
    "outputId": "81fe3cdb-ac26-4e0a-c0fc-8d8168ba772c"
   },
   "outputs": [
    {
     "name": "stdout",
     "output_type": "stream",
     "text": [
      "Requirement already satisfied: markdown_it_py in /usr/local/lib/python3.7/dist-packages (1.1.0)\n",
      "Requirement already satisfied: attrs<22,>=19 in /usr/local/lib/python3.7/dist-packages (from markdown_it_py) (21.2.0)\n",
      "Requirement already satisfied: typing-extensions>=3.7.4; python_version < \"3.8\" in /usr/local/lib/python3.7/dist-packages (from markdown_it_py) (3.7.4.3)\n"
     ]
    }
   ],
   "source": [
    "!pip3 install markdown_it_py\n",
    "from markdown_it import MarkdownIt\n",
    "import nbformat\n",
    "import io\n",
    "import re\n",
    "import nltk"
   ]
  },
  {
   "cell_type": "code",
   "execution_count": null,
   "metadata": {
    "colab": {
     "base_uri": "https://localhost:8080/"
    },
    "id": "zUgQqsVuCRMP",
    "outputId": "703961f5-c737-4fc3-dfc8-d3e774b681d0"
   },
   "outputs": [
    {
     "name": "stdout",
     "output_type": "stream",
     "text": [
      "#%mldev nb_context\n",
      "\n",
      "notebook_deps:\n",
      "  printHello_exec: printHello\n",
      "  plot: imports s\n",
      "\n",
      "test_sequence:\n",
      "#   - ls\n",
      "  # - who_magic\n",
      "  - plot\n",
      "  - block\n",
      "  - printHello_exec\n",
      "  - regression\n",
      "  # - who_magic\n",
      "  \n",
      "results: [koef, intercept]\n",
      "\n"
     ]
    }
   ],
   "source": [
    "md = MarkdownIt()\n",
    "\n",
    "with open('IPythonAPITest.ipynb') as f:\n",
    "  notebook = nbformat.read(f, nbformat.NO_CONVERT)\n",
    "\n",
    "cells = notebook.cells\n",
    "mdcells = [x.source for x in cells if x.cell_type == 'markdown']\n",
    "parsed_mdcells = list(map(lambda text: md.parse(text), mdcells))\n",
    "\n",
    "for parsed in parsed_mdcells:\n",
    "  for token in parsed:\n",
    "    token_dict = token.as_dict()\n",
    "    if token_dict['type'] == 'fence' and token_dict['tag'] == 'code' and token_dict['info'] == 'yaml':\n",
    "      if ('%mldev nb_context' in token_dict['content']):\n",
    "        print(token_dict['content'])"
   ]
  },
  {
   "cell_type": "code",
   "execution_count": null,
   "metadata": {
    "colab": {
     "base_uri": "https://localhost:8080/"
    },
    "id": "KBS0T-vRrNhH",
    "outputId": "5ef710cb-0b5d-41f9-dfd5-e1c5a9b7b10b"
   },
   "outputs": [
    {
     "name": "stdout",
     "output_type": "stream",
     "text": [
      "# %mldev regression start\n",
      "\n",
      "x_cells = [11, 18, 14, 43, 12, 50, 58, 13]\n",
      "y_time = [4, 8, 6, 19, 5, 19, 25, 7]\n",
      "from sklearn.linear_model import LinearRegression\n",
      "import numpy as np\n",
      "\n",
      "x = np.array(x_cells).reshape(-1, 1)\n",
      "y = np.array(y_time).reshape(-1, 1)\n",
      "\n",
      "reg = LinearRegression()\n",
      "reg.fit(x, y)\n",
      "x_test = np.array([0, 15, 17, 20, 38, 44, 50, 70]).reshape(-1, 1)\n",
      "\n",
      "prediction = reg.predict(x_test)\n",
      "prediction\n",
      "plt.scatter(x, y)\n",
      "plt.plot(x_test, prediction)\n",
      "\n",
      "plt.title(\"Линейная регрессия для времени\")\n",
      "plt.xlabel('Кол-во ячеек')\n",
      "plt.ylabel('Время, мин.')\n",
      "\n",
      "plt.show()\n",
      "koef = reg.coef_[0][0]\n",
      "intercept = reg.intercept_[0]\n",
      "\n",
      "print(koef, intercept)\n",
      "\n",
      "#%mldev regression end\n",
      "# %mldev block start\n",
      "\n",
      "print('this is begining cell')\n",
      "\n",
      "print('this is middle cell')\n",
      "\n",
      "print('this is another middle cell')\n",
      "print('this is the last cell')\n",
      "\n",
      "#%mldev block end\n"
     ]
    }
   ],
   "source": [
    "cell_sources = {}\n",
    "started_block = ''\n",
    "for cell in notebook.cells:\n",
    "    if cell.cell_type == 'code':\n",
    "        if started_block:\n",
    "            cell_sources[started_block] = \"\\n\".join([cell_sources[started_block], cell.source])\n",
    "        for line in cell.source.split('\\n'):\n",
    "            cell_names = re.findall(r'#\\s*%mldev\\s+(\\w+\\s*\\w+)', line)\n",
    "            if len(cell_names):\n",
    "                cell_name = cell_names[0].split()\n",
    "                if len(cell_name) == 1:\n",
    "                    cell_sources[cell_name[0]] = cell.source\n",
    "                else:\n",
    "                    if cell_name[1] == 'start':\n",
    "                        started_block = cell_name[0]\n",
    "                        cell_sources[started_block] = cell.source\n",
    "                    elif cell_name[1] == 'end':\n",
    "                        started_block = ''\n",
    "print(cell_sources['regression'])\n",
    "print(cell_sources['block'])"
   ]
  },
  {
   "cell_type": "code",
   "execution_count": null,
   "metadata": {
    "id": "sIWN867RdjlW"
   },
   "outputs": [],
   "source": [
    "import IPython"
   ]
  },
  {
   "cell_type": "code",
   "execution_count": null,
   "metadata": {
    "colab": {
     "base_uri": "https://localhost:8080/"
    },
    "id": "Nh6amuHEdlx2",
    "outputId": "9b638783-327f-4324-9289-8c4942274a83"
   },
   "outputs": [
    {
     "name": "stdout",
     "output_type": "stream",
     "text": [
      "\u001b[0;31m---------------------------------------------------------------------------\u001b[0m\n",
      "\u001b[0;31mNameError\u001b[0m                                 Traceback (most recent call last)\n",
      "\u001b[0;32m<ipython-input-1-3f786850e387>\u001b[0m in \u001b[0;36m<module>\u001b[0;34m()\u001b[0m\n",
      "\u001b[0;32m----> 1\u001b[0;31m \u001b[0ma\u001b[0m\u001b[0;34m\u001b[0m\u001b[0;34m\u001b[0m\u001b[0m\n",
      "\u001b[0m\n",
      "\u001b[0;31mNameError\u001b[0m: name 'a' is not defined\n",
      "name 'a' is not defined\n"
     ]
    }
   ],
   "source": [
    "shell = IPython.core.interactiveshell.InteractiveShell()\n",
    "\n",
    "result = shell.run_cell('a')\n",
    "print(result.error_in_exec)"
   ]
  },
  {
   "cell_type": "code",
   "execution_count": null,
   "metadata": {
    "id": "DS-20HiBd5pW"
   },
   "outputs": [],
   "source": []
  }
 ],
 "metadata": {
  "celltoolbar": "Редактировать метаданные",
  "colab": {
   "collapsed_sections": [],
   "name": "IPythonAPITest.ipynb",
   "provenance": []
  },
  "kernelspec": {
   "display_name": "Python 3",
   "language": "python",
   "name": "python3"
  },
  "language_info": {
   "codemirror_mode": {
    "name": "ipython",
    "version": 3
   },
   "file_extension": ".py",
   "mimetype": "text/x-python",
   "name": "python",
   "nbconvert_exporter": "python",
   "pygments_lexer": "ipython3",
   "version": "3.6.9"
  }
 },
 "nbformat": 4,
 "nbformat_minor": 1
}
